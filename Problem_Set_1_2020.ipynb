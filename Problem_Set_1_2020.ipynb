{
 "cells": [
  {
   "cell_type": "markdown",
   "metadata": {},
   "source": [
    "**Problems for Quantum Materials Chemistry – Due Friday, March 13th at 4:00 pm**\n",
    "A 1-time 10 point deduction will be made for problem sets submitted after 4:00 pm on Friday, March 8th.  \n",
    "\n",
    "Each question is worth 20 points.\n",
    "\n",
    "You are expected to adhere to the collaboration policy described in the syllabus.  As such, if you discuss strategies for solving problems with other students, you must declare this in the problem set solution you submit.  Sharing solutions with other students does not constitute acceptable collaboration, even if declared, and will be treated as academic dishonesty.\n"
   ]
  },
  {
   "cell_type": "markdown",
   "metadata": {},
   "source": [
    "1.  Consider an electron in a 1-D box of length $L=1$ nm that has energy eigenstates given by \n",
    "\\begin{equation}\n",
    "\\psi_n(x) = \\sqrt{2} {\\rm sin}(n \\pi x)\n",
    "\\end{equation}\n",
    "when $x$ has units of nanometers.  Now consider that an atomically-precise hammer is used to deform the bottom of the box such that the electron feels an effective potential given by \n",
    "\\begin{equation}\n",
    "V(x) = V(x)= -2(x-0.5)^3+0.5.\n",
    "\\end{equation}\n",
    "\n",
    "    a.  Compute the energy expectation value of an electron described by $\\psi_1(x)$ after the box is deformed.\n",
    "\n",
    "    b.  Explain if you think the original energy eigenstates, $\\psi_n(x)$, are stationary \n",
    "states in the deformed box.  "
   ]
  },
  {
   "cell_type": "code",
   "execution_count": 2,
   "metadata": {},
   "outputs": [
    {
     "name": "stdout",
     "output_type": "stream",
     "text": [
      "6.024658523923367e-20\n"
     ]
    }
   ],
   "source": [
    "# Answer to question 1\n",
    "#part a\n",
    "\n",
    "#I need to convert nm to m, which means psi(x) will be √2/1*10**-9 * sin(𝑛𝜋𝑥/1*10**-9) and the potential will be −2(𝑥−0.5* 10**-9)**3+0.5*10**-9\n",
    "#Energy expectation needs sum of integrals over regular Particle in a box and potential\n",
    "#Need to find E1, because psi1 is an eigenfunction of the kinetic energy operator and equal to regular PIB \n",
    "import numpy as np\n",
    "hbar = 1.054571e-34\n",
    "m = 9.109383e-31\n",
    "L = 1e-9\n",
    "pi = np.pi\n",
    "\n",
    "#I can now calculate E1\n",
    "E1 = pi**2 * hbar**2/(2 * m * L**2)\n",
    "print(E1)"
   ]
  },
  {
   "cell_type": "code",
   "execution_count": 13,
   "metadata": {},
   "outputs": [
    {
     "name": "stdout",
     "output_type": "stream",
     "text": [
      "5.000000000602466e-10\n"
     ]
    }
   ],
   "source": [
    "#continuation of part a...\n",
    "\n",
    "#I used Wolfram Alpha to calculate the potential, which is just integrating from 0 to 1 (in meters)\n",
    "#the total energy expectation value is the kinetic (E1) plus the potential\n",
    "#after calculating the potential, I got 5.000 *10e-10\n",
    "Energy = E1 + 5e-10\n",
    "print(Energy)"
   ]
  },
  {
   "cell_type": "markdown",
   "metadata": {},
   "source": [
    "Answer to Part B:\n",
    " The original eigenstates are not stationary states in the deformed box. \n",
    "To determine if the original eigenstates are stationary, you have to see if they are eigenfunctions of\n",
    "the deformed box Hamiltonian. If they are eigengunctions of the deformed box Hamiltonian, then they are stationary. \n",
    "In this case, the potential is not just a constant times the original function, so they are not stationary."
   ]
  },
  {
   "cell_type": "markdown",
   "metadata": {},
   "source": [
    "2.  Considering the modified box in Question 1, write down the Hamiltonian operator after the box has been modified.  Using this Hamiltonian, use the linear variational method and a bsis of the first 3 energy eigenstates of the ordinary particle in a box to estimate the ground state energy of the modified system."
   ]
  },
  {
   "cell_type": "markdown",
   "metadata": {},
   "source": [
    "Answer to Question 2:\n",
    "\n",
    "The Hamiltonian operator after the box has been modified is \n",
    "\\begin{equation}\n",
    "\\hat{H} = -\\frac{\\hbar^2}{2m} \\frac{d^2}{dx^2} + \\delta(-2(x-0.5)^3 +0.5);\n",
    "\\end{equation}"
   ]
  },
  {
   "cell_type": "code",
   "execution_count": 19,
   "metadata": {},
   "outputs": [
    {
     "name": "stdout",
     "output_type": "stream",
     "text": [
      "[[ 5.00000000e-10 -7.53235947e-26  2.00875541e-26]\n",
      " [-7.36070333e-26  5.00000000e-10  3.32473317e-26]\n",
      " [ 1.34358789e-26 -3.89223971e-27  5.00000001e-10]]\n",
      "ground state energy estimate is 5.000000000602466e-10 Joules\n"
     ]
    }
   ],
   "source": [
    "#Second half of 2- using this with linear variational method with a basis of first 3 eigenstates to estimate \n",
    "#ground state energy\n",
    "\n",
    "#following what we did in the lab, need to build a matrix and diagonalize to determine lowest energy eigenvalues\n",
    "#(done with some help from Figen for the code!)\n",
    "x = np.linspace(0,L,200)\n",
    "#potential\n",
    "Vx = -2*(x-0.5e-9)**3 + 0.5e-9\n",
    "\n",
    "def Hij(i,j, xarray, pot_array): \n",
    "    if (i==j):\n",
    "        Ei = pi**2 * hbar**2 * i**2/(2*m*L**2)\n",
    "    else:\n",
    "        Ei = 0\n",
    "        \n",
    "    #intesgrate potential\n",
    "    dx= xarray[1] - xarray[0]\n",
    "    psi_i = np.sqrt(2/L) * np.sin( i * pi * xarray/L)\n",
    "    psi_j = np.sqrt(2/L) * np.sin( j * pi * xarray/L)\n",
    "    integrand = psi_i * pot_array * psi_j\n",
    "    pot_int = 0\n",
    "    for i in range(0,len(xarray)):\n",
    "        pot_int = pot_int + integrand[i]*dx\n",
    "    return (Ei + pot_int)\n",
    "\n",
    "H_mat = np.zeros((3,3))\n",
    "for i in range(1,4):\n",
    "    for j in range(1,4):\n",
    "        H_mat[i-1][j-1] = Hij(i, j, x, Vx)\n",
    "        \n",
    "print(H_mat)\n",
    "\n",
    "E_opt, c_opt = np.linalg.eig(H_mat)\n",
    "\n",
    "print(\"ground state energy estimate is\", np.min(E_opt), \"Joules\")"
   ]
  },
  {
   "cell_type": "markdown",
   "metadata": {},
   "source": [
    "3.  The predecessor to Hartree-Fock theory was the Hartree method, where the main difference is that the Hartree-Fock method includes anti-symmetry in the trial wavefunction by writing it as a Slater Determinant, while the Hartree method uses a simple product wavefunction that does not capture anti-symmetry.  In particular, for a minimal-basis model of H$_2$, the Hatree method's trial wavefunction is given by\n",
    "\\begin{equation}\n",
    "\\Psi_H = \\phi_1(x_1) \\phi_2(x_2)\n",
    "\\end{equation}\n",
    "while the Hartree-Fock trial wavefunction is given by \n",
    "\\begin{equation}\n",
    "\\Psi_{HF} = \\phi_1(x_1) \\phi_2(x_2) - \\phi_1(x_2) \\phi_2(x_1),\n",
    "\\end{equation}\n",
    "where $\\phi_1$ and $\\phi_2$ are molecular orbitals, and $x_1$ and $x_2$ denote the coordinates\n",
    "of electron 1 and electron 2, respectively.\n",
    "\n",
    "    Write an expression for the total energy expectation values of $\\Psi_H$ and $\\Psi_{HF}$ in terms of 1- and 2-electron integrals and comment on the differences.  In particular, which method do you think will yield the lower total energy?  Recall the Hamiltonian operator can be written in terms of 1- and 2-electron operators as\n",
    "\\begin{equation}\n",
    "\\hat{H} = \\sum_{i}^N \\hat{h}_i + \\sum_{i>j}^N \\hat{V}_{i,j},\n",
    "\\end{equation}\n",
    "    where $\\hat{h}_i$ is the 1-electron operator for electron $i$ and $\\hat{V}_{i,j}$ is the 2-electron operator for electrons $i$ and $j$."
   ]
  },
  {
   "cell_type": "markdown",
   "metadata": {},
   "source": [
    "Answer to Question 3:\n",
    "\n",
    "See Attached for expectation values expressions\n",
    "\n",
    "The Hartree-Fock follows anti-symmetry and has and has an extra negative part that contributes. Because of this extra negative component, it tends to yield the lower total energy than the Hartree wavefunction.\n"
   ]
  },
  {
   "cell_type": "markdown",
   "metadata": {},
   "source": [
    "4. Use the following function as a trial wavefunction for the particle-in-a-box groundstate:\n",
    "\\begin{equation}\n",
    "\\phi(x) = c_1 x (L - x) + c_2 x (L-x)^2 + c_3 x^4(L-x) + c_4 x^2(L-x)^2.\n",
    "\\end{equation}\n",
    "Compare the energy expectation value of $\\phi(x)$ to $\\psi_1(x)$, the true ground state of the particle in a box of length $L$.  Discuss whether or not this result is consistent with the Variational principle."
   ]
  },
  {
   "cell_type": "markdown",
   "metadata": {},
   "source": [
    "Answer to question 4\n",
    "\n",
    "Need to caluculate the following \n",
    "\n",
    "\\begin{equation}\n",
    "\\langle E \\rangle = \\frac{\\langle \\phi(x) |\\hat{H}| \\phi(x) \\rangle}{\\langle \\phi(x)\\phi(x) \\rangle}\n",
    "\\end{equation}\n",
    "\n",
    "I need to calculate the energy expectation value by first acting the hamiltonian on the trial wave function. \n",
    "This can be done by evaluating d^2/dx^2 on the trial wavefunction. \n",
    "Using Wolfram Alpha I evaluated d^2/dx^2 of x(1-x) + x(1-X)^2 +x^4 (1-x)+x^2 and multiplied by -1/2 assuming in atomic units and everything is equal to 1\n",
    "\n",
    "\n",
    "The result is 0.60317 au\n",
    "\n",
    "The denominator was also calculated by wolfram alpha and was 0.11948\n",
    "Divided, the energy expectation is 5.0482 au\n",
    "\n",
    "The ground state energy is \n",
    "\\begin{equation}\n",
    "E_1 = \\frac{1^2\\pi^2}{2} = 4.9348 au\n",
    "\\end{equation}\n",
    "\n",
    "This is consistent with the Variational Principle because the trial wavefunction's energy is greater than the true ground state energy"
   ]
  },
  {
   "cell_type": "markdown",
   "metadata": {},
   "source": [
    "5.  The energy expression for second-order Moller-Plesset Perturbation Theory is \n",
    "\\begin{equation}\n",
    "E_{MP2} = 2 \\sum_{i,j,a,b}^N \\frac{\\langle ij | V | ab \\rangle \\langle ab | V | ij \\rangle}{\\epsilon_i + \\epsilon_j - \\epsilon_a - \\epsilon_b} - \\sum_{i,j,a,b}^N \\frac{\\langle ij | V | ab \\rangle \\langle ab | V | ji \\rangle}{\\epsilon_i + \\epsilon_j - \\epsilon_a - \\epsilon_b}\n",
    "\\end{equation}\n",
    "where $N$ is the number of molecular orbitals, $\\epsilon_p$ is the molecular orbital energy\n",
    "of orbital $p$, and $\\langle pq | V | rs \\rangle$ is the 2-electron integral\n",
    "involving orbitals $\\phi_p, \\phi_q, \\phi_r$, and $\\phi_s$.  \n",
    "\n",
    "**Explain how the computational cost of evaluating the MP2 energy scales with the number of molecular orbitals.**  "
   ]
  },
  {
   "cell_type": "markdown",
   "metadata": {},
   "source": [
    "The computational cost will scale to N^4 based on the number of molecular oribitals, or it will scale up quadratically. Each piece must count the total number of basis functions quadratically, therefor there is a huge computational cost and would most likely not be feasible for large numbers of orbitals. "
   ]
  },
  {
   "cell_type": "code",
   "execution_count": null,
   "metadata": {},
   "outputs": [],
   "source": []
  }
 ],
 "metadata": {
  "kernelspec": {
   "display_name": "Python 3",
   "language": "python",
   "name": "python3"
  },
  "language_info": {
   "codemirror_mode": {
    "name": "ipython",
    "version": 3
   },
   "file_extension": ".py",
   "mimetype": "text/x-python",
   "name": "python",
   "nbconvert_exporter": "python",
   "pygments_lexer": "ipython3",
   "version": "3.7.6"
  }
 },
 "nbformat": 4,
 "nbformat_minor": 2
}
