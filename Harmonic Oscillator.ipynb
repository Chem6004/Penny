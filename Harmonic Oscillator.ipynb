{
 "cells": [
  {
   "cell_type": "markdown",
   "metadata": {},
   "source": [
    "# Computational Exercise 1: A Vary Great, Very Harmonic, Wavefunction\n",
    "We will apply the Variational Method to the Harmonic Oscillator.  In particular, we will optimize\n",
    "the trial wavefunction given by \n",
    "\\begin{equation}\n",
    "\\Phi(x) = {\\rm exp}\\left( -\\alpha x^2 \\right),\n",
    "\\end{equation}\n",
    "where $\\alpha$ is an adjustable parameter that will be variationally optimized.  In particular, the goal\n",
    "will be to minimize the energy functional given by\n",
    "\\begin{equation}\n",
    "E[\\Phi(x)] = \\frac{\\int_{-\\infty}^{\\infty} \\Phi^* (x) \\: \\hat{H} \\: \\Phi(x) dx }{\\int_{-\\infty}^{\\infty} \\Phi^* (x) \\: \\Phi(x) dx }\n",
    "\\end{equation}\n",
    "by modulating the trial wavefunction through the adjustable parameter $\\alpha$.\n",
    "\n",
    "The Hamiltonian operator for Harmonic Oscillator is given by \n",
    "\\begin{equation}\n",
    "\\hat{H} = -\\frac{\\hbar^2}{2m} \\frac{d^2}{dx^2} + \\frac{1}{2} k \\: x^2.\n",
    "\\end{equation}\n",
    "We will use a system of natural units where $\\hbar = 1$, the mass of the particle $m = 1$, and the force constant of\n",
    "the potential $k = 1$.\n",
    "\n",
    "### Questions\n",
    "1. What is the optimal value of $E[\\Phi(x)]$ in natural units?  How does this value compare to the true ground state energy of the Harmonic Oscillator?\n",
    "2. What is the optimal value of $\\alpha$ in natural units?  How does $\\Phi(x)$ with this value of $\\alpha$ compare to the true ground state wavefunction?\n",
    "3. What is the kinetic energy expectation value of the optimized trial wavefunction in natural units?\n",
    "4. What is the potential energy expectation value of the optimized trial wavefunction in natural units?\n",
    "\n",
    "### (Hopefully) Helpful Hints\n",
    "You can represent your trial wavefunction numerically on the computer by creating an array of x-values, evaluating\n",
    "the formula for your trial wavefunction at each of those x-values, and then storing each of those function values in another array.  The following lines of code will do this using $numpy$ arrays and the $numpy.exp$ function. \n"
   ]
  },
  {
   "cell_type": "code",
   "execution_count": 1,
   "metadata": {},
   "outputs": [
    {
     "data": {
      "text/plain": [
       "<Figure size 640x480 with 1 Axes>"
      ]
     },
     "metadata": {},
     "output_type": "display_data"
    }
   ],
   "source": [
    "import numpy as np\n",
    "from matplotlib import pyplot as plt\n",
    "### create an array of 1000 x-values between x=-20 and x=20 atomic units\n",
    "x_array = np.linspace(-20,20,1000)\n",
    "### pick a trial value of alpha... might as well be 1 atomic unit!\n",
    "\n",
    "alpha = 0.5\n",
    "### evaluate your trial wavefunction at each of the x-values stored in the array called 'x_array'\n",
    "Phi = np.exp(-alpha * x_array**2)\n",
    "Vx= 1/2. * x_array **2\n",
    "\n",
    "plt.plot(x_array, Phi, 'red', label='Trial')\n",
    "plt.plot(x_array, Vx, 'green', label= 'Potential')\n",
    "plt.xlim(-5,5)\n",
    "plt.ylim(0,10)\n",
    "plt.legend()\n",
    "plt.show()\n"
   ]
  },
  {
   "cell_type": "markdown",
   "metadata": {},
   "source": [
    "To evaluate the kinetic energy of a trial wavefunction, we will need to take the second derivative of the trial wavefunction.\n",
    "One way to take derivatives on a computer is to use the method of finite differences.  In particular, the forward finite difference\n",
    "approximation to the first derivative of your trial wavefunction $\\Phi(x)$ at the point $x_0$ can be written symbolically as\n",
    "\\begin{equation}\n",
    "\\frac{d \\Phi(x_0)}{dx} = \\frac{\\Phi(x_0 + dx) - \\Phi(x_0)}{dx}\n",
    "\\end{equation}\n",
    "where in our code, $dx$ will be determined by the range of x-values and the number of x-values used in defining\n",
    "$x_{array}$.\n",
    "\n",
    "Create a function called $dfdx$ that takes an array of x-values and an array of function values evaluated at each x-value and\n",
    "returns the first derivative of the function values with respect to x.  Then, show that calling this function in sequence can be used to compute the second derivative of an array of function values.  \n",
    "\n",
    "A skeleton of the function looks like this:"
   ]
  },
  {
   "cell_type": "code",
   "execution_count": 2,
   "metadata": {},
   "outputs": [],
   "source": [
    "def dfdx(fx, x):\n",
    "    ### loop through values of fx and x and use forward finite-differences \n",
    "    ### to compute the d/dx of fx at each point and store in an array called 'fxp'\n",
    "    ### make sure to properly handle\n",
    "    ### the last point where f(x_0 + dx) is not stored\n",
    "    ### create a numpy array called fxp that has the same length\n",
    "    ### and data type as the array of function values you are differentiating\n",
    "    fxp = np.zeros_like(fx)\n",
    "    \n",
    "    for i in range(0,len(x)-1):\n",
    "        rise = fx[i+1]-fx[i]\n",
    "        run = x[i+1]-x[i]\n",
    "        slope = rise/run\n",
    "        fxp[i] = slope\n",
    "        \n",
    "    \n",
    "    ### once you have computed all fxp values, return the array!\n",
    "    return fxp\n",
    "\n",
    "\n",
    "def TPhi(fx, x):\n",
    "    \n",
    "    #this takes the first derivative of fx and stores it as fxp\n",
    "    fxp = dfdx(fx, x)\n",
    "    #this takes the first derivative of fxp and stores it as fxpp\n",
    "    fxpp = dfdx(fxp, x)\n",
    "    # now return second derivative of fx multiplied by -1/2\n",
    "    return -1/2 * fxpp\n",
    "\n",
    "def VPhi(fx, x):\n",
    "    return 1/2 * x**2 * fx\n",
    "\n",
    "def HPhi(fx, x):\n",
    "    return TPhi(fx,x) + VPhi(fx, x)\n",
    "\n",
    "#function will take our trial wavefunction and our grid of \n",
    "#x values and return the energy expectation value\n",
    "#using rectangle rule for the integrals!\n",
    "def E_of_Phi(fx,x):\n",
    "    #get my dx value!\n",
    "    dx = x[1]-x[0]\n",
    "    #get my numerator function!\n",
    "    hp = HPhi(fx, x)\n",
    "    phi_star = np.conj(fx)\n",
    "    num_func = phi_star * hp\n",
    "    #get my denominator function!\n",
    "    den_func = phi_star * fx\n",
    "    \n",
    "    #define numerator sum\n",
    "    num_sum = 0\n",
    "    \n",
    "    #define denominator sum variable\n",
    "    den_sum = 0\n",
    "    \n",
    "    #perform the loop to compute the rectangle rule approximation to the integrals!\n",
    "    for i in range(1, len(x)):\n",
    "        # add the area of the numerator rectangle to num_sum\n",
    "        num_sum = num_sum + num_func[i] * dx\n",
    "        #add the area of the denominator rectangle to den_sum\n",
    "        den_sum = den_sum + den_func[i] * dx\n",
    "        \n",
    "    return num_sum/den_sum\n",
    "        \n",
    "       \n",
    "\n"
   ]
  },
  {
   "cell_type": "code",
   "execution_count": 3,
   "metadata": {},
   "outputs": [
    {
     "name": "stdout",
     "output_type": "stream",
     "text": [
      "0.49964950635885347\n"
     ]
    }
   ],
   "source": [
    "E_Trial = E_of_Phi(Phi, x_array)\n",
    "print(E_Trial)"
   ]
  },
  {
   "cell_type": "code",
   "execution_count": 4,
   "metadata": {},
   "outputs": [],
   "source": [
    "def T_of_Phi(fx,x):\n",
    "    #get my dx value!\n",
    "    dx = x[1]-x[0]\n",
    "    #get my numerator function!\n",
    "    hp = TPhi(fx, x)\n",
    "    phi_star = np.conj(fx)\n",
    "    num_func = phi_star * hp\n",
    "    #get my denominator function!\n",
    "    den_func = phi_star * fx\n",
    "    \n",
    "     #define numerator sum\n",
    "    num_sum = 0\n",
    "    \n",
    "    #define denominator sum variable\n",
    "    den_sum = 0\n",
    "    \n",
    "    #perform the loop to compute the rectangle rule approximation to the integrals!\n",
    "    for i in range(1, len(x)):\n",
    "        # add the area of the numerator rectangle to num_sum\n",
    "        num_sum = num_sum + num_func[i] * dx\n",
    "        #add the area of the denominator rectangle to den_sum\n",
    "        den_sum = den_sum + den_func[i] * dx\n",
    "        \n",
    "    return num_sum/den_sum\n",
    "    \n",
    "\n",
    "    \n",
    "def V_of_Phi(fx,x):\n",
    "    #get my dx value!\n",
    "    dx = x[1]-x[0]\n",
    "    #get my numerator function!\n",
    "    hp = VPhi(fx, x)\n",
    "    phi_star = np.conj(fx)\n",
    "    num_func = phi_star * hp\n",
    "    #get my denominator function!\n",
    "    den_func = phi_star * fx\n",
    "    \n",
    "     #define numerator sum\n",
    "    num_sum = 0\n",
    "    \n",
    "    #define denominator sum variable\n",
    "    den_sum = 0\n",
    "    \n",
    "    #perform the loop to compute the rectangle rule approximation to the integrals!\n",
    "    for i in range(1, len(x)):\n",
    "        # add the area of the numerator rectangle to num_sum\n",
    "        num_sum = num_sum + num_func[i] * dx\n",
    "        #add the area of the denominator rectangle to den_sum\n",
    "        den_sum = den_sum + den_func[i] * dx\n",
    "        \n",
    "    return num_sum/den_sum"
   ]
  },
  {
   "cell_type": "code",
   "execution_count": 5,
   "metadata": {},
   "outputs": [
    {
     "name": "stdout",
     "output_type": "stream",
     "text": [
      "0.24964950635885358\n",
      "0.25\n"
     ]
    }
   ],
   "source": [
    "T_Trial = T_of_Phi(Phi, x_array)\n",
    "print(T_Trial)\n",
    "\n",
    "V_Trial = V_of_Phi(Phi, x_array)\n",
    "print(V_Trial)"
   ]
  },
  {
   "cell_type": "code",
   "execution_count": 6,
   "metadata": {},
   "outputs": [
    {
     "data": {
      "image/png": "[encoded data removed]",
      "text/plain": [
       "<Figure size 432x288 with 1 Axes>"
      ]
     },
     "metadata": {
      "needs_background": "light"
     },
     "output_type": "display_data"
    }
   ],
   "source": [
    "hp = HPhi(Phi, x_array)\n",
    "plt.plot(x_array, np.conj(Phi)*hp)\n",
    "plt.show()"
   ]
  },
  {
   "cell_type": "markdown",
   "metadata": {},
   "source": [
    "And the calling sequence for $dfdx$ to compute the second derivative of a trial wavefunction we defined previously will look like this:"
   ]
  },
  {
   "cell_type": "code",
   "execution_count": 7,
   "metadata": {},
   "outputs": [
    {
     "data": {
      "image/png": "[encoded data removed]",
      "text/plain": [
       "<Figure size 432x288 with 1 Axes>"
      ]
     },
     "metadata": {
      "needs_background": "light"
     },
     "output_type": "display_data"
    }
   ],
   "source": [
    "### Call dfdx on Phi to get the first derivative of Phi\n",
    "Phi_p = dfdx(Phi, x_array)\n",
    "\n",
    "Phi_wa = -2 * alpha * x_array * Phi\n",
    "\n",
    "plt.plot(x_array, Phi_p, 'red', label = 'dfdx result')\n",
    "plt.plot(x_array, Phi_wa, 'b--', label = 'Wolfram Alpha result')\n",
    "plt.legend()\n",
    "plt.show()\n",
    "\n",
    "### Call dfdx on Phi_p to get the second derivative of Phi\n",
    "Phi_pp = dfdx(Phi_p, x_array)"
   ]
  },
  {
   "cell_type": "markdown",
   "metadata": {},
   "source": [
    "Answers to Questions\n",
    "\n",
    "1. The optimal value of 𝐸[Φ(𝑥) in natural units is 0.623 when using alpha = 1. If setting everything into natural units, the true ground state energy of the Harmonic Oscillator is 0.5, therefore, this optimal value is higher than the true ground state energy, which is to be expected when using the variational method. \n",
    "\n",
    "2. The optimal value of alpha is 0.5, since it gives close to the true ground state energy of 0.5. This makes phi(x) increase compared to the true ground state. \n",
    "\n",
    "3. The kinetic energy expectation value of the optimized trial wavefunction is 0.249, defined above as T_trial.\n",
    "\n",
    "4. The potential energy expectation value of the optimized trial wavefunction is 0.25, defined above as V_trial."
   ]
  },
  {
   "cell_type": "code",
   "execution_count": null,
   "metadata": {},
   "outputs": [],
   "source": []
  }
 ],
 "metadata": {
  "kernelspec": {
   "display_name": "Python 3",
   "language": "python",
   "name": "python3"
  },
  "language_info": {
   "codemirror_mode": {
    "name": "ipython",
    "version": 3
   },
   "file_extension": ".py",
   "mimetype": "text/x-python",
   "name": "python",
   "nbconvert_exporter": "python",
   "pygments_lexer": "ipython3",
   "version": "3.7.1"
  }
 },
 "nbformat": 4,
 "nbformat_minor": 2
}
